{
 "cells": [
  {
   "cell_type": "code",
   "execution_count": 3,
   "metadata": {
    "collapsed": false
   },
   "outputs": [],
   "source": [
    "from subprocess import getoutput as sgo\n",
    "import pygimli.meshtools.polytools as plc\n",
    "import numpy as np\n",
    "\n",
    "def print2file(string,file='figs/3d_mesh.geo'):\n",
    "    sgo('echo \"'+string+'\" >> '+file)\n",
    "    \n",
    "\n",
    "radius_inner = 100\n",
    "radius_outer = 140\n",
    "world_height = 400\n",
    "world_width = 200\n",
    "pipe_length = 300\n",
    "segments = 40\n",
    "characteristicLengthMin = 25\n",
    "\n",
    "assert radius_inner < radius_outer\n",
    "assert radius_outer < world_height\n",
    "assert radius_outer < world_width\n",
    "\n",
    "c_inner = plc.createCircle([0, 0], radius=radius_inner, segments=segments)\n",
    "c_outer = plc.createCircle([0, 0], radius=radius_outer, segments=segments)\n",
    "\n",
    "!rm figs/3d_mesh.geo\n",
    "print2file('lc1 = 18;')\n",
    "print2file('lc2 = 118;')\n",
    "\n",
    "pointIdx = 1\n",
    "points_outer = []\n",
    "for node in c_outer.nodes():\n",
    "    print2file('Point('+str(pointIdx)+') ={'+str(node.x())+', '+\\\n",
    "                                        str(node.y())+', '+\\\n",
    "                                        str(node.z())+', lc1};')\n",
    "    points_outer.append(pointIdx)\n",
    "    pointIdx += 1\n",
    "print2file(' ')\n",
    "\n",
    "points_inner = []\n",
    "for node in c_inner.nodes():\n",
    "    print2file('Point('+str(pointIdx)+') ={'+str(node.x())+', '+\\\n",
    "                                        str(node.y())+', '+\\\n",
    "                                        str(node.z())+', lc1};')\n",
    "    points_inner.append(pointIdx)\n",
    "    pointIdx += 1    \n",
    "\n",
    "#Create line entities\n",
    "lineIdx = 1\n",
    "for i,pointIdx in enumerate(points_outer):\n",
    "    if i == 0:\n",
    "        startIdx = pointIdx\n",
    "    if i < len(points_outer)-1:\n",
    "        print2file('Line('+str(lineIdx)+') ={'+str(pointIdx)+', '+str(pointIdx+1)+'};')\n",
    "        lineIdx += 1\n",
    "    elif i == len(points_outer)-1:\n",
    "        print2file('Line('+str(lineIdx)+') ={'+str(pointIdx)+', '+str(startIdx)+'};')\n",
    "        lineIdx += 1\n",
    "print2file(' ')        \n",
    "        \n",
    "for i,pointIdx in enumerate(points_inner):\n",
    "    if i == 0:\n",
    "        startIdx = pointIdx\n",
    "    if i < len(points_inner)-1:\n",
    "        print2file('Line('+str(lineIdx)+') ={'+str(pointIdx)+', '+str(pointIdx+1)+'};')\n",
    "        lineIdx += 1\n",
    "    elif i == len(points_outer)-1:\n",
    "        print2file('Line('+str(lineIdx)+') ={'+str(pointIdx)+', '+str(startIdx)+'};')\n",
    "        lineIdx += 1\n",
    "        \n",
    "#Create line loop entities\n",
    "lineLoopOuterIdx = lineIdx\n",
    "print2file('Line Loop('+str(lineLoopOuterIdx)+') = {'+str(points_outer)[1:-1]+'};')\n",
    "\n",
    "lineIdx += 1\n",
    "lineLoopInnerIdx = lineIdx\n",
    "print2file('Line Loop('+str(lineLoopInnerIdx)+') = {'+str(points_inner)[1:-1]+'};')\n",
    "\n",
    "lineIdx += 1\n",
    "print2file('Plane Surface('+str(lineIdx)+') = {'+str(lineLoopOuterIdx)+', '+str(lineLoopInnerIdx)+'};')\n",
    "\n",
    "print2file(' ')    \n",
    "\n",
    "print2file('Extrude {0, 0, '+str(pipe_length)+'} {')\n",
    "print2file('  Surface{'+str(lineIdx)+'};')\n",
    "print2file('}')\n",
    "\n",
    "\n",
    "\n",
    "#Outer world\n",
    "worldEntityIdx1 = pointIdx + lineIdx + 10**(np.ceil(np.log10(pointIdx+lineIdx)))\n",
    "worldEntityIdx2 = worldEntityIdx1 + 1\n",
    "worldEntityIdx3 = worldEntityIdx1 + 2\n",
    "worldEntityIdx4 = worldEntityIdx1 + 3\n",
    "\n",
    "print2file('Point('+str(worldEntityIdx1)+') ={'+str(-world_width)+', '+\\\n",
    "                                                str(world_height)+', '+\\\n",
    "                                                str(0)+', lc2};')\n",
    "print2file('Point('+str(worldEntityIdx2)+') ={'+str(world_width)+', '+\\\n",
    "                                                str(world_height)+', '+\\\n",
    "                                                str(0)+', lc2};')\n",
    "print2file('Point('+str(worldEntityIdx3)+') ={'+str(world_width)+', '+\\\n",
    "                                                str(-world_height)+', '+\\\n",
    "                                                str(0)+', lc2};')\n",
    "print2file('Point('+str(worldEntityIdx4)+') ={'+str(-world_width)+', '+\\\n",
    "                                                str(-world_height)+', '+\\\n",
    "                                                str(0)+', lc2};')\n",
    "\n",
    "worldLineIdx5 = worldEntityIdx1 + 4\n",
    "worldLineIdx6 = worldEntityIdx1 + 5\n",
    "worldLineIdx7 = worldEntityIdx1 + 6\n",
    "worldLineIdx8 = worldEntityIdx1 + 7\n",
    "print2file(' ') \n",
    "\n",
    "print2file('Line('+str(worldLineIdx5)+') ={'+str(worldEntityIdx1)+', '+str(worldEntityIdx2)+'};')\n",
    "print2file('Line('+str(worldLineIdx6)+') ={'+str(worldEntityIdx2)+', '+str(worldEntityIdx3)+'};')\n",
    "print2file('Line('+str(worldLineIdx7)+') ={'+str(worldEntityIdx3)+', '+str(worldEntityIdx4)+'};')\n",
    "print2file('Line('+str(worldLineIdx8)+') ={'+str(worldEntityIdx4)+', '+str(worldEntityIdx1)+'};')\n",
    "print2file(' ') \n",
    "\n",
    "worldLineLoopIdx9 = worldEntityIdx1 + 8\n",
    "print2file('Line Loop('+str(worldLineLoopIdx9)+\\\n",
    "           ') = {'+str(worldLineIdx5)+', '+\\\n",
    "           str(worldLineIdx6)+', '+\\\n",
    "           str(worldLineIdx7)+', '+\\\n",
    "           str(worldLineIdx8)+'};')\n",
    "\n",
    "worldPlaneSurfaceIdx10 = worldEntityIdx1 + 9\n",
    "print2file('Plane Surface('+str(worldPlaneSurfaceIdx10)+') = {'+str(lineLoopOuterIdx)+', '+str(worldLineLoopIdx9)+'};')\n",
    "\n",
    "print2file(' ')    \n",
    "\n",
    "print2file('Extrude {0, 0, '+str(pipe_length)+'} {')\n",
    "print2file('  Surface{'+str(worldPlaneSurfaceIdx10)+'};')\n",
    "print2file('}')\n",
    "\n",
    "#print2file('Mesh.CharacteristicLengthMin = '+str(characteristicLengthMin)+';')"
   ]
  },
  {
   "cell_type": "code",
   "execution_count": 4,
   "metadata": {
    "collapsed": false
   },
   "outputs": [
    {
     "name": "stdout",
     "output_type": "stream",
     "text": [
      "Mesh: Nodes: 3752 Cells: 17373 Boundaries: 36443\n"
     ]
    }
   ],
   "source": [
    "# http://gmsh.info/doc/texinfo/gmsh.html#Mesh-options-list\n",
    "from pygimli.meshtools import readGmsh\n",
    "import subprocess\n",
    "\n",
    "subprocess.call([\"gmsh\", \"-3\", \"-o\", \"figs/3d_mesh.msh\", \"figs/3d_mesh.geo\"])\n",
    "mesh = readGmsh('figs/3d_mesh.msh', verbose=False)\n",
    "\n",
    "for cell in mesh.cells():\n",
    "    distanceFromOrigin = np.sqrt((cell.center().x())**2+(cell.center().y())**2)\n",
    "    if distanceFromOrigin > radius_outer:\n",
    "        cell.setMarker(2)\n",
    "        \n",
    "mesh.save('figs/3d_mesh.bms')\n",
    "mesh.exportVTK('figs/3d_mesh')\n",
    "print(mesh)"
   ]
  },
  {
   "cell_type": "code",
   "execution_count": null,
   "metadata": {
    "collapsed": true
   },
   "outputs": [],
   "source": [
    "!paraview --data=figs/3d_mesh.vtk"
   ]
  },
  {
   "cell_type": "code",
   "execution_count": 5,
   "metadata": {
    "collapsed": false
   },
   "outputs": [
    {
     "name": "stdout",
     "output_type": "stream",
     "text": [
      "3394\n"
     ]
    }
   ],
   "source": [
    "#Set boundary conditions\n",
    "import numpy as np\n",
    "import pygimli as pg\n",
    "\n",
    "outer_boundaries = 0\n",
    "for bound in mesh.boundaries():\n",
    "    try:\n",
    "        bound.leftCell().id()\n",
    "        existLeftCell = True    \n",
    "    except:\n",
    "        existLeftCell = False\n",
    "\n",
    "    try:\n",
    "        bound.rightCell().id()\n",
    "        existRightCell = True    \n",
    "    except:\n",
    "        existRightCell = False\n",
    "\n",
    "    if np.array([existLeftCell,existRightCell]).all() == False:\n",
    "        bound.setMarker(pg.MARKER_BOUND_HOMOGEN_NEUMANN)\n",
    "        outer_boundaries += 1\n",
    "\n",
    "print(outer_boundaries)"
   ]
  },
  {
   "cell_type": "code",
   "execution_count": 80,
   "metadata": {
    "collapsed": false
   },
   "outputs": [
    {
     "name": "stdout",
     "output_type": "stream",
     "text": [
      "-98.7688340595 15.643446504 300.0\n",
      "53.410524588021 -128.94441283382199 300.0\n",
      "124.74091338632 -63.558669963599996 52.941176470482\n",
      "124.74091338632 -63.558669963599996 70.588235293975\n",
      "4# Number of electrodes\n",
      "#x y z\n",
      "53.410524588021 -128.94441283382199 300.0\n",
      "-98.7688340595 15.643446504 300.0\n",
      "124.74091338632 -63.558669963599996 52.941176470482\n",
      "124.74091338632 -63.558669963599996 70.588235293975\n",
      "4# Number of data\n",
      "#a b m n\n",
      "1 2 3 4\n",
      "2 1 3 4\n",
      "1 4 3 2\n",
      "2 3 1 4\n"
     ]
    }
   ],
   "source": [
    "#Specify electrode nodes\n",
    "#240, 641\n",
    "for i,node in enumerate(mesh.nodes()):\n",
    "    if i == 240:\n",
    "        elec1_x, elec1_y, elec1_z = node.x(),node.y(),node.z()\n",
    "        print(elec1_x, elec1_y, elec1_z)\n",
    "    if i == 141:\n",
    "        elec2_x, elec2_y, elec2_z = node.x(),node.y(),node.z()\n",
    "        print(elec2_x, elec2_y, elec2_z)        \n",
    "    if i == 842:\n",
    "        elec3_x, elec3_y, elec3_z = node.x(),node.y(),node.z()\n",
    "        print(elec3_x, elec3_y, elec3_z)        \n",
    "    if i == 843:\n",
    "        elec4_x, elec4_y, elec4_z = node.x(),node.y(),node.z() \n",
    "        print(elec4_x, elec4_y, elec4_z)        \n",
    "\n",
    "#Useful if dcmod is applied\n",
    "!echo \"4# Number of electrodes\" > figs/config.shm\n",
    "!echo \"#x y z\" >> figs/config.shm\n",
    "!echo \"{elec1_x} {elec1_y} {elec1_z}\" >> figs/config.shm\n",
    "!echo \"{elec2_x} {elec2_y} {elec2_z}\" >> figs/config.shm\n",
    "!echo \"{elec3_x} {elec3_y} {elec3_z}\" >> figs/config.shm\n",
    "!echo \"{elec4_x} {elec4_y} {elec4_z}\" >> figs/config.shm\n",
    "!echo \"4# Number of data\" >> figs/config.shm\n",
    "!echo \"#a b m n\" >> figs/config.shm\n",
    "!echo \"1 2 3 4\" >> figs/config.shm\n",
    "!echo \"2 1 3 4\" >> figs/config.shm\n",
    "!echo \"1 4 3 2\" >> figs/config.shm\n",
    "!echo \"2 3 1 4\" >> figs/config.shm\n",
    "\n",
    "!cat figs/config.shm"
   ]
  },
  {
   "cell_type": "code",
   "execution_count": 81,
   "metadata": {
    "collapsed": false
   },
   "outputs": [
    {
     "name": "stdout",
     "output_type": "stream",
     "text": [
      "141\n",
      "240\n",
      "842\n",
      "843\n"
     ]
    },
    {
     "data": {
      "text/plain": [
       "1"
      ]
     },
     "execution_count": 81,
     "metadata": {},
     "output_type": "execute_result"
    }
   ],
   "source": [
    "#Set electrode marker\n",
    "for node in mesh.nodes():\n",
    "    if (node.x() == elec1_x) and \\\n",
    "        (node.y() == elec1_y) and \\\n",
    "        (node.z() == elec1_z):\n",
    "            print(node.id())\n",
    "            node.setMarker(99)  \n",
    "    if (node.x() == elec2_x) and \\\n",
    "        (node.y() == elec2_y) and \\\n",
    "        (node.z() == elec2_z):\n",
    "            print(node.id())        \n",
    "            node.setMarker(99)\n",
    "    if (node.x() == elec3_x) and \\\n",
    "        (node.y() == elec3_y) and \\\n",
    "        (node.z() == elec3_z):\n",
    "            print(node.id())        \n",
    "            node.setMarker(99)\n",
    "    if (node.x() == elec4_x) and \\\n",
    "        (node.y() == elec4_y) and \\\n",
    "        (node.z() == elec4_z):\n",
    "            print(node.id())        \n",
    "            node.setMarker(99)\n",
    "    \n",
    "mesh.save('figs/3d_mesh')"
   ]
  },
  {
   "cell_type": "code",
   "execution_count": 89,
   "metadata": {
    "collapsed": false
   },
   "outputs": [
    {
     "name": "stdout",
     "output_type": "stream",
     "text": [
      "Mesh:  Mesh: Nodes: 3752 Cells: 17373 Boundaries: 36443\n",
      "{'sourcePos': [53.410524588021, -128.94441283382199, 300.0], 'k': 0.001}\n",
      "('Asssemblation time: ', 0.568)\n",
      "('Solving time: ', 0.061)\n",
      "Mesh:  Mesh: Nodes: 3752 Cells: 17373 Boundaries: 36443\n",
      "{'sourcePos': [-98.7688340595, 15.643446504, 300.0], 'k': 0.001}\n",
      "('Asssemblation time: ', 0.609)\n",
      "('Solving time: ', 0.071)\n"
     ]
    }
   ],
   "source": [
    "#Explicit definition of boundary conditions\n",
    "from pygimli.solver import solve\n",
    "\n",
    "def mixedBC(boundary, userData):\n",
    "    sourcePos = userData['sourcePos']\n",
    "    k = userData['k']\n",
    "    r1 = boundary.center() - sourcePos\n",
    "    # Mirror on surface at depth=0\n",
    "    r2 = boundary.center() - pg.RVector3(1.0, -1.0, 1.0) * sourcePos\n",
    "    r1A = r1.abs()\n",
    "    r2A = r2.abs()\n",
    "\n",
    "    n = boundary.norm()\n",
    "\n",
    "    if r1A > 1e-12 and r2A > 1e-12:\n",
    "        return k * ((r1.dot(n)) / r1A * pg.besselK1(r1A * k) +\n",
    "                    (r2.dot(n)) / r2A * pg.besselK1(r2A * k)) / \\\n",
    "            (pg.besselK0(r1A * k) + pg.besselK0(r2A * k))\n",
    "    else:\n",
    "        return 0.\n",
    "    \n",
    "def pointSource(cell, f, userData):\n",
    "    sourcePos = userData['sourcePos']\n",
    "\n",
    "    if cell.shape().isInside(sourcePos):\n",
    "        f.setVal(cell.N(cell.shape().rst(sourcePos)), cell.ids())\n",
    "\n",
    "\n",
    "sourcePosA = [elec1_x, elec1_y, elec1_z]\n",
    "sourcePosB = [elec2_x, elec2_y, elec2_z]\n",
    "\n",
    "k = 1e-3\n",
    "sigma = np.zeros(mesh.cellCount())\n",
    "for i,cell in enumerate(mesh.cells()):\n",
    "    sigma[i] = 1000 * (cell.marker()+.1)\n",
    "\n",
    "\n",
    "u1 = solve(mesh, a=sigma, b=sigma * k*k, f=pointSource,\n",
    "          duB=[[-1, mixedBC]],\n",
    "          userData={'sourcePos': sourcePosA, 'k': k},\n",
    "          verbose=True)\n",
    "\n",
    "#For the sake of simplicity, mixedBC is used for all boundary facets\n",
    "u2 = solve(mesh, a=sigma, b=sigma * k*k, f=pointSource,\n",
    "          duB=[[-1, mixedBC]],\n",
    "          userData={'sourcePos': sourcePosB, 'k': k},\n",
    "          verbose=True)\n",
    "\n",
    "u = u1 - u2"
   ]
  },
  {
   "cell_type": "code",
   "execution_count": 90,
   "metadata": {
    "collapsed": false
   },
   "outputs": [],
   "source": [
    "#Write electric field into vtk\n",
    "try:\n",
    "    !rm figs/3d_mesh.vtk\n",
    "except:\n",
    "    pass\n",
    "\n",
    "mesh.save('figs/3d_mesh')\n",
    "mesh.exportVTK('figs/3d_mesh')\n",
    "!echo 'SCALARS valuesC double 1' >> figs/3d_mesh.vtk\n",
    "!echo 'LOOKUP_TABLE default' >> figs/3d_mesh.vtk\n",
    "!echo {str(list(u)).replace('[','').replace(']','').replace('\\n','').replace(',','')} >> figs/3d_mesh.vtk\n",
    "\n",
    "!paraview --data=figs/3d_mesh.vtk"
   ]
  },
  {
   "cell_type": "code",
   "execution_count": 92,
   "metadata": {
    "collapsed": false
   },
   "outputs": [
    {
     "name": "stdout",
     "output_type": "stream",
     "text": [
      "[ 100.  300.]\n"
     ]
    }
   ],
   "source": [
    "print(np.unique(np.sort(sigma)))"
   ]
  },
  {
   "cell_type": "code",
   "execution_count": null,
   "metadata": {
    "collapsed": true
   },
   "outputs": [],
   "source": []
  }
 ],
 "metadata": {
  "anaconda-cloud": {},
  "kernelspec": {
   "display_name": "Python [Root]",
   "language": "python",
   "name": "Python [Root]"
  },
  "language_info": {
   "codemirror_mode": {
    "name": "ipython",
    "version": 3
   },
   "file_extension": ".py",
   "mimetype": "text/x-python",
   "name": "python",
   "nbconvert_exporter": "python",
   "pygments_lexer": "ipython3",
   "version": "3.5.2"
  }
 },
 "nbformat": 4,
 "nbformat_minor": 0
}
