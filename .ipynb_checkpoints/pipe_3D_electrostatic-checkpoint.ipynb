{
 "cells": [
  {
   "cell_type": "code",
   "execution_count": 3,
   "metadata": {
    "collapsed": false
   },
   "outputs": [
    {
     "data": {
      "text/plain": [
       "'/home/bergmann/peterb/CV/200_Rosen/010_pygimli_pn_cylinder'"
      ]
     },
     "execution_count": 3,
     "metadata": {},
     "output_type": "execute_result"
    }
   ],
   "source": [
    "pwd"
   ]
  },
  {
   "cell_type": "code",
   "execution_count": 1,
   "metadata": {
    "collapsed": false
   },
   "outputs": [
    {
     "name": "stdout",
     "output_type": "stream",
     "text": [
      "Writing mesh.geo\n"
     ]
    }
   ],
   "source": [
    "%%file mesh.geo\n",
    "\n",
    "lc = 0.08;\n",
    "\n",
    "Point(1) = {0, 160, 0, lc};\n",
    "Point(2) = {160, 0, 0, lc};\n",
    "Point(3) = {0, -160, 0, lc};\n",
    "Point(4) = {-160, 0, 0, lc};\n",
    "\n",
    "Point(5) = {0, 210, 0, lc};\n",
    "Point(6) = {210, 0, 0, lc};\n",
    "Point(7) = {0, -210, 0, lc};\n",
    "Point(8) = {-210, 0, 0, lc};\n",
    "\n",
    "Line(1) = {1, 2};\n",
    "Line(2) = {2, 3};\n",
    "Line(3) = {3, 4};\n",
    "Line(4) = {4, 1};\n",
    "\n",
    "Line(5) = {5, 6};\n",
    "Line(6) = {6, 7};\n",
    "Line(7) = {7, 8};\n",
    "Line(8) = {8, 5};\n",
    "\n",
    "Line Loop(9) = {1,2,3,4};\n",
    "Line Loop(10) = {5,6,7,8};\n",
    "Plane Surface(11) = {9, 10};\n",
    "\n",
    "Extrude {0, 0, 40} {\n",
    "  Surface{11};\n",
    "}\n",
    "\n",
    "//Physical Point(99) = {2,3,4,5}; // electrode marker (99)\n",
    "\n",
    "Mesh.CharacteristicLengthMin = 15;\n",
    "//Mesh.CharacteristicLengthMin = 7;"
   ]
  },
  {
   "cell_type": "code",
   "execution_count": 4,
   "metadata": {
    "collapsed": false
   },
   "outputs": [],
   "source": [
    "from subprocess import getoutput as sgo\n",
    "import pygimli.meshtools.polytools as plc\n",
    "\n",
    "def print2file(string,file='mesh.geo'):\n",
    "    sgo('echo \"'+string+'\" >> '+file)\n",
    "    \n",
    "\n",
    "radius_inner = 160\n",
    "radius_outer = 210\n",
    "pipe_length = 300\n",
    "segments = 40\n",
    "characteristicLengthMin = 25\n",
    "c_inner = plc.createCircle([0, 0], radius=radius_inner, segments=segments)\n",
    "c_outer = plc.createCircle([0, 0], radius=radius_outer, segments=segments)\n",
    "\n",
    "!rm mesh.geo\n",
    "print2file('lc = 0.08;')\n",
    "\n",
    "pointIdx = 1\n",
    "points_outer = []\n",
    "for node in c_outer.nodes():\n",
    "    print2file('Point('+str(pointIdx)+') ={'+str(node.x())+', '+\\\n",
    "                                        str(node.y())+', '+\\\n",
    "                                        str(node.z())+', lc};')\n",
    "    points_outer.append(pointIdx)\n",
    "    pointIdx += 1\n",
    "print2file(' ')\n",
    "\n",
    "points_inner = []\n",
    "for node in c_inner.nodes():\n",
    "    print2file('Point('+str(pointIdx)+') ={'+str(node.x())+', '+\\\n",
    "                                        str(node.y())+', '+\\\n",
    "                                        str(node.z())+', lc};')\n",
    "    points_inner.append(pointIdx)\n",
    "    pointIdx += 1    \n",
    "\n",
    "#Create line entities\n",
    "lineIdx = 1\n",
    "for i,pointIdx in enumerate(points_outer):\n",
    "    if i == 0:\n",
    "        startIdx = pointIdx\n",
    "    if i < len(points_outer)-1:\n",
    "        print2file('Line('+str(lineIdx)+') ={'+str(pointIdx)+', '+str(pointIdx+1)+'};')\n",
    "        lineIdx += 1\n",
    "    elif i == len(points_outer)-1:\n",
    "        print2file('Line('+str(lineIdx)+') ={'+str(pointIdx)+', '+str(startIdx)+'};')\n",
    "        lineIdx += 1\n",
    "print2file(' ')        \n",
    "        \n",
    "for i,pointIdx in enumerate(points_inner):\n",
    "    if i == 0:\n",
    "        startIdx = pointIdx\n",
    "    if i < len(points_inner)-1:\n",
    "        print2file('Line('+str(lineIdx)+') ={'+str(pointIdx)+', '+str(pointIdx+1)+'};')\n",
    "        lineIdx += 1\n",
    "    elif i == len(points_outer)-1:\n",
    "        print2file('Line('+str(lineIdx)+') ={'+str(pointIdx)+', '+str(startIdx)+'};')\n",
    "        lineIdx += 1\n",
    "        \n",
    "#Create line loop entities\n",
    "lineLoopOuterIdx = lineIdx\n",
    "print2file('Line Loop('+str(lineLoopOuterIdx)+') = {'+str(points_outer)[1:-1]+'};')\n",
    "\n",
    "lineIdx += 1\n",
    "lineLoopInnerIdx = lineIdx\n",
    "print2file('Line Loop('+str(lineLoopInnerIdx)+') = {'+str(points_inner)[1:-1]+'};')\n",
    "\n",
    "lineIdx += 1\n",
    "print2file('Plane Surface('+str(lineIdx)+') = {'+str(lineLoopOuterIdx)+', '+str(lineLoopInnerIdx)+'};')\n",
    "\n",
    "print2file(' ')    \n",
    "\n",
    "print2file('Extrude {0, 0, '+str(pipe_length)+'} {')\n",
    "print2file('  Surface{'+str(lineIdx)+'};')\n",
    "print2file('}')\n",
    "\n",
    "print2file('Mesh.CharacteristicLengthMin = '+str(characteristicLengthMin)+';')"
   ]
  },
  {
   "cell_type": "code",
   "execution_count": 5,
   "metadata": {
    "collapsed": false
   },
   "outputs": [
    {
     "name": "stdout",
     "output_type": "stream",
     "text": [
      "Mesh: Nodes: 2684 Cells: 9050 Boundaries: 20428\n"
     ]
    }
   ],
   "source": [
    "# http://gmsh.info/doc/texinfo/gmsh.html#Mesh-options-list\n",
    "from pygimli.meshtools import readGmsh\n",
    "import subprocess\n",
    "\n",
    "subprocess.call([\"gmsh\", \"-3\", \"-o\", \"mesh.msh\", \"mesh.geo\"])\n",
    "mesh = readGmsh('mesh.msh', verbose=False)\n",
    "mesh.save('mesh.bms')\n",
    "mesh.exportVTK('mesh')\n",
    "print(mesh)"
   ]
  },
  {
   "cell_type": "code",
   "execution_count": 6,
   "metadata": {
    "collapsed": true
   },
   "outputs": [],
   "source": [
    "!paraview --data=mesh.vtk"
   ]
  },
  {
   "cell_type": "code",
   "execution_count": 7,
   "metadata": {
    "collapsed": false
   },
   "outputs": [
    {
     "name": "stdout",
     "output_type": "stream",
     "text": [
      "4656\n"
     ]
    }
   ],
   "source": [
    "#Set boundary conditions\n",
    "import numpy as np\n",
    "import pygimli as pg\n",
    "\n",
    "outer_boundaries = 0\n",
    "for bound in mesh.boundaries():\n",
    "    try:\n",
    "        bound.leftCell().id()\n",
    "        existLeftCell = True    \n",
    "    except:\n",
    "        existLeftCell = False\n",
    "\n",
    "    try:\n",
    "        bound.rightCell().id()\n",
    "        existRightCell = True    \n",
    "    except:\n",
    "        existRightCell = False\n",
    "\n",
    "    if np.array([existLeftCell,existRightCell]).all() == False:\n",
    "        bound.setMarker(pg.MARKER_BOUND_HOMOGEN_NEUMANN)\n",
    "        outer_boundaries += 1\n",
    "\n",
    "mesh.save('mesh')\n",
    "print(outer_boundaries)"
   ]
  },
  {
   "cell_type": "code",
   "execution_count": 8,
   "metadata": {
    "collapsed": false
   },
   "outputs": [
    {
     "name": "stdout",
     "output_type": "stream",
     "text": [
      "210.0 0.0 24.99999999995\n",
      "169.89356881875 -123.43490298132 149.999999999598\n",
      "-94.04564036672 -129.4427191 224.999999999796\n",
      "-94.04564036672 -129.4427191 249.999999999864\n",
      "4# Number of electrodes\n",
      "#x y z\n",
      "210.0 0.0 24.99999999995\n",
      "169.89356881875 -123.43490298132 149.999999999598\n",
      "-94.04564036672 -129.4427191 224.999999999796\n",
      "-94.04564036672 -129.4427191 249.999999999864\n",
      "4# Number of data\n",
      "#a b m n\n",
      "1 2 3 4\n",
      "2 1 3 4\n",
      "1 4 3 2\n",
      "2 3 1 4\n"
     ]
    }
   ],
   "source": [
    "for i,node in enumerate(mesh.nodes()):\n",
    "    if i == 240:\n",
    "        elec1_x, elec1_y, elec1_z = node.x(),node.y(),node.z()\n",
    "        print(elec1_x, elec1_y, elec1_z)\n",
    "    if i == 641:\n",
    "        elec2_x, elec2_y, elec2_z = node.x(),node.y(),node.z()\n",
    "        print(elec2_x, elec2_y, elec2_z)        \n",
    "    if i == 842:\n",
    "        elec3_x, elec3_y, elec3_z = node.x(),node.y(),node.z()\n",
    "        print(elec3_x, elec3_y, elec3_z)        \n",
    "    if i == 843:\n",
    "        elec4_x, elec4_y, elec4_z = node.x(),node.y(),node.z() \n",
    "        print(elec4_x, elec4_y, elec4_z)        \n",
    "\n",
    "!echo \"4# Number of electrodes\" > config.shm\n",
    "!echo \"#x y z\" >> config.shm\n",
    "!echo \"{elec1_x} {elec1_y} {elec1_z}\" >> config.shm\n",
    "!echo \"{elec2_x} {elec2_y} {elec2_z}\" >> config.shm\n",
    "!echo \"{elec3_x} {elec3_y} {elec3_z}\" >> config.shm\n",
    "!echo \"{elec4_x} {elec4_y} {elec4_z}\" >> config.shm\n",
    "!echo \"4# Number of data\" >> config.shm\n",
    "!echo \"#a b m n\" >> config.shm\n",
    "!echo \"1 2 3 4\" >> config.shm\n",
    "!echo \"2 1 3 4\" >> config.shm\n",
    "!echo \"1 4 3 2\" >> config.shm\n",
    "!echo \"2 3 1 4\" >> config.shm\n",
    "\n",
    "!cat config.shm"
   ]
  },
  {
   "cell_type": "code",
   "execution_count": 11,
   "metadata": {
    "collapsed": false
   },
   "outputs": [
    {
     "name": "stdout",
     "output_type": "stream",
     "text": [
      "240\n",
      "641\n",
      "842\n",
      "843\n"
     ]
    },
    {
     "data": {
      "text/plain": [
       "1"
      ]
     },
     "execution_count": 11,
     "metadata": {},
     "output_type": "execute_result"
    }
   ],
   "source": [
    "#Set electrode marker\n",
    "for node in mesh.nodes():\n",
    "    if (node.x() == elec1_x) and \\\n",
    "        (node.y() == elec1_y) and \\\n",
    "        (node.z() == elec1_z):\n",
    "            print(node.id())\n",
    "            node.setMarker(99)  \n",
    "    if (node.x() == elec2_x) and \\\n",
    "        (node.y() == elec2_y) and \\\n",
    "        (node.z() == elec2_z):\n",
    "            print(node.id())        \n",
    "            node.setMarker(99)\n",
    "    if (node.x() == elec3_x) and \\\n",
    "        (node.y() == elec3_y) and \\\n",
    "        (node.z() == elec3_z):\n",
    "            print(node.id())        \n",
    "            node.setMarker(99)\n",
    "    if (node.x() == elec4_x) and \\\n",
    "        (node.y() == elec4_y) and \\\n",
    "        (node.z() == elec4_z):\n",
    "            print(node.id())        \n",
    "            node.setMarker(99)\n",
    "    \n",
    "mesh.save('mesh')"
   ]
  },
  {
   "cell_type": "code",
   "execution_count": 19,
   "metadata": {
    "collapsed": false
   },
   "outputs": [
    {
     "name": "stdout",
     "output_type": "stream",
     "text": [
      "Mesh:  Mesh: Nodes: 2684 Cells: 9052 Boundaries: 20432\n",
      "{'k': 0.001, 'sourcePos': [210.0, 0.0, 24.99999999995]}\n",
      "('Asssemblation time: ', 0.617)\n",
      "('Solving time: ', 0.088)\n",
      "Mesh:  Mesh: Nodes: 2684 Cells: 9052 Boundaries: 20432\n",
      "{'k': 0.001, 'sourcePos': [169.89356881875, -123.43490298132, 149.999999999598]}\n",
      "('Asssemblation time: ', 0.40700000000000003)\n",
      "('Solving time: ', 0.023)\n"
     ]
    }
   ],
   "source": [
    "from pygimli.solver import solve\n",
    "\n",
    "def mixedBC(boundary, userData):\n",
    "    sourcePos = userData['sourcePos']\n",
    "    k = userData['k']\n",
    "    r1 = boundary.center() - sourcePos\n",
    "    # Mirror on surface at depth=0\n",
    "    r2 = boundary.center() - pg.RVector3(1.0, -1.0, 1.0) * sourcePos\n",
    "    r1A = r1.abs()\n",
    "    r2A = r2.abs()\n",
    "\n",
    "    n = boundary.norm()\n",
    "    # need rho here !!!!!!!!!!!!!!!!!!!!!!!!!!!1\n",
    "\n",
    "    if r1A > 1e-12 and r2A > 1e-12:\n",
    "        return k * ((r1.dot(n)) / r1A * pg.besselK1(r1A * k) +\n",
    "                    (r2.dot(n)) / r2A * pg.besselK1(r2A * k)) / \\\n",
    "            (pg.besselK0(r1A * k) + pg.besselK0(r2A * k))\n",
    "    else:\n",
    "        return 0.\n",
    "    \n",
    "def pointSource(cell, f, userData):\n",
    "    sourcePos = userData['sourcePos']\n",
    "\n",
    "    if cell.shape().isInside(sourcePos):\n",
    "        f.setVal(cell.N(cell.shape().rst(sourcePos)), cell.ids())\n",
    "\n",
    "\n",
    "sourcePosA = [elec1_x, elec1_y, elec1_z]\n",
    "sourcePosB = [elec2_x, elec2_y, elec2_z]\n",
    "\n",
    "k = 1e-3\n",
    "sigma = 1\n",
    "u1 = solve(mesh, a=sigma, b=sigma * k*k, f=pointSource,\n",
    "          duB=[[-1, mixedBC]],\n",
    "          userData={'sourcePos': sourcePosA, 'k': k},\n",
    "          verbose=True)\n",
    "\n",
    "#BOundary conditions!!!!!!!!!!!!!!!!!!!!!!!!!!!!!!!!!!!!!!!!!!!!!!!!!!!!!!!!\n",
    "u2 = solve(mesh, a=sigma, b=sigma * k*k, f=pointSource,\n",
    "          duB=[[-1, mixedBC]],\n",
    "          userData={'sourcePos': sourcePosB, 'k': k},\n",
    "          verbose=True)\n",
    "\n",
    "u = u1 - u2"
   ]
  },
  {
   "cell_type": "code",
   "execution_count": 20,
   "metadata": {
    "collapsed": false
   },
   "outputs": [],
   "source": [
    "mesh.save('mesh')\n",
    "!echo 'SCALARS valuesC double 1' >> mesh.vtk\n",
    "!echo 'LOOKUP_TABLE default' >> mesh.vtk\n",
    "!echo {str(list(u)).replace('[','').replace(']','').replace('\\n','').replace(',','')} >> mesh.vtk\n",
    "\n",
    "!paraview --data=mesh.vtk"
   ]
  },
  {
   "cell_type": "code",
   "execution_count": null,
   "metadata": {
    "collapsed": true
   },
   "outputs": [],
   "source": []
  }
 ],
 "metadata": {
  "anaconda-cloud": {},
  "kernelspec": {
   "display_name": "Python [Root]",
   "language": "python",
   "name": "Python [Root]"
  },
  "language_info": {
   "codemirror_mode": {
    "name": "ipython",
    "version": 3
   },
   "file_extension": ".py",
   "mimetype": "text/x-python",
   "name": "python",
   "nbconvert_exporter": "python",
   "pygments_lexer": "ipython3",
   "version": "3.5.2"
  }
 },
 "nbformat": 4,
 "nbformat_minor": 0
}
