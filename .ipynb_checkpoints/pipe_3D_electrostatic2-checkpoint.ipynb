{
 "cells": [
  {
   "cell_type": "code",
   "execution_count": 3,
   "metadata": {
    "collapsed": false
   },
   "outputs": [
    {
     "data": {
      "text/plain": [
       "'/home/bergmann/peterb/CV/200_Rosen/010_pygimli_pn_cylinder'"
      ]
     },
     "execution_count": 3,
     "metadata": {},
     "output_type": "execute_result"
    }
   ],
   "source": [
    "pwd"
   ]
  },
  {
   "cell_type": "code",
   "execution_count": 5,
   "metadata": {
    "collapsed": false
   },
   "outputs": [
    {
     "name": "stdout",
     "output_type": "stream",
     "text": [
      "Overwriting mesh.geo\n"
     ]
    }
   ],
   "source": [
    "%%file mesh.geo\n",
    "// ---- 2D Circular Cylinder Gmsh Tutorial ----\n",
    "// 2D_cylinder_tutorial.geo\n",
    "// Creates a mesh with an inner structured-quad region and \n",
    "// an outer unstructured tri region\n",
    "//\n",
    "// Created 11/26/2014 by Jacob Crabill\n",
    "// Aerospace Computing Lab, Stanford University\n",
    "// --------------------------------------------\n",
    "\n",
    "// Gmsh allows variables; these will be used to set desired\n",
    "// element sizes at various Points\n",
    "cl1 = 6;\n",
    "cl2 = .03;\n",
    "cl3 = 10;\n",
    "\n",
    "radius = 1;\n",
    "outer = 10;\n",
    "numinner = 30; \n",
    "extr = -1;\n",
    "\n",
    "// Exterior (bounding box) of mesh\n",
    "Point(1) = {-30, -30, 0, cl1};\n",
    "Point(2) = { 50, -30, 0, cl3};\n",
    "Point(3) = { 50,  30, 0, cl3};\n",
    "Point(4) = {-30,  30, 0, cl1};\n",
    "Line(1) = {1, 2};\n",
    "Line(2) = {2, 3};\n",
    "Line(3) = {3, 4};\n",
    "Line(4) = {4, 1};\n",
    "\n",
    "// Circle & surrounding structured-quad region\n",
    "Point(5) = {0,   0, 0, cl2};\n",
    "Point(6) = {0,  radius, 0, cl2};\n",
    "Point(7) = {0, -radius, 0, cl2};\n",
    "Point(8) = {0,  outer, 0, cl2};\n",
    "Point(9) = {0, -outer, 0, cl2};\n",
    "Point(10) = {radius,  0, 0, cl2};\n",
    "Point(11) = {-radius, 0, 0, cl2};\n",
    "Point(12) = {outer,  0, 0, cl2};\n",
    "Point(13) = {-outer, 0, 0, cl2};\n",
    "\n",
    "Circle(5) = {7, 5, 10};\n",
    "Circle(6) = {6, 5, 11};\n",
    "Circle(7) = {8, 5, 13};\n",
    "Circle(8) = {9, 5, 12};\n",
    "\n",
    "Line(9)  = {6, 8};\n",
    "Line(10) = {7, 9};\n",
    "Line(11)  = {10, 12};\n",
    "Line(12) = {11, 13};\n",
    "\n",
    "Circle(13) = {10, 5, 6};\n",
    "Circle(14) = {11, 5, 7};\n",
    "Circle(15) = {13, 5, 9};\n",
    "Circle(16) = {12, 5, 8};\n",
    "\n",
    "\n",
    "Transfinite Line {5,6,7,8,13,14,15,16} = 20; // We want 40 points along each of these lines\n",
    "Transfinite Line {9,10,11,12} = numinner Using Progression 1.1;    // And 10 points along each of these lines\n",
    "\n",
    "//Using Progression 1.1\n",
    "\n",
    "// Each region which to be independently meshed must have a line loop\n",
    "// Regions which will be meshed with Transfinite Surface must have 4 lines\n",
    "// and be labeled in CCW order, with the correct orientation of each edge\n",
    "Line Loop(1) = {1, 2, 3, 4, 7, 16, 8, 15}; // Exterior\n",
    "Line Loop(2) = {10, 8, -11, -5}; // RH side of quad region - note ordering\n",
    "Line Loop(3) = {7, -12, -6, 9}; // LH side of quad region - note ordering\n",
    "Line Loop(4) = {-10, -14, 12, 15}; // RH side of quad region - note ordering\n",
    "Line Loop(5) = {16, -9, -13, 11}; // LH side of quad region - note ordering\n",
    "\n",
    "Plane Surface(1) = {1}; // Outer unstructured region\n",
    "Plane Surface(2) = {2}; // RH inner structured region\n",
    "Plane Surface(3) = {3}; // LH inner structured region\n",
    "Plane Surface(4) = {4}; // RH inner structured region\n",
    "Plane Surface(5) = {5}; // LH inner structured region\n",
    "\n",
    "// Mesh these surfaces in a structured manner\n",
    "Transfinite Surface{2,3,4,5};\n",
    "\n",
    "// Turn into quads (optional, but Transfinite Surface looks best with quads)\n",
    "Recombine Surface {2,3,4,5};\n",
    "// Turn outer region into unstructured quads (optional)\n",
    "Recombine Surface {1};\n",
    "\n",
    "// Change layer to increase z subdivision\n",
    "Extrude {0, 0, extr} { Surface{1,2,3,4,5}; Layers{1}; Recombine;}\n",
    "\n",
    "\n",
    "// Apply boundary conditions\n",
    "// Note: Can change names later at top of .msh file\n",
    "// Each boundary in gmsh must be labeled differently\n",
    "// rename the boundaries manually in the resulting .msh file\n",
    "//Physical Line(\"Bottom\") = {1};\n",
    "//Physical Line(\"Right\")  = {2};\n",
    "//Physical Line(\"Top\")    = {3};\n",
    "//Physical Line(\"Left\")   = {4};\n",
    "//Physical Line(\"Circle\") = {5,6};\n",
    "// Alternate version - make all 4 outer bounds part of the same B.C.:\n",
    "//Physical Line(\"Char\") = {1,2,3,4}; \n",
    "\n",
    "// IMPORTANT: \"FLUID\" MUST contain all fluid surfaces(2D)/volumes(3D)\n",
    "//Physical Surface(\"FLUID\") = {1,2,3};\n",
    "\n",
    "Physical Surface(\"wall\") = {115, 79, 97,141};\n",
    "Physical Surface(\"inflow\") = {41, 37, 29};\n",
    "Physical Surface(\"outflow\") = {33};\n",
    "Physical Surface(\"periodic_0_r\") = {1,2,3,4,5};\n",
    "Physical Surface(\"periodic_0_l\") = {58,124,80,102,146};\n",
    "Physical Volume(\"fluid\") = {1, 2, 4, 3, 5};"
   ]
  },
  {
   "cell_type": "code",
   "execution_count": 18,
   "metadata": {
    "collapsed": false
   },
   "outputs": [
    {
     "name": "stdout",
     "output_type": "stream",
     "text": [
      "Overwriting mesh.geo\n"
     ]
    }
   ],
   "source": [
    "%%file mesh.geo\n",
    "\n",
    "lc = 0.08;\n",
    "\n",
    "Point(1) = {0, 160, 0, lc};\n",
    "Point(2) = {160, 0, 0, lc};\n",
    "Point(3) = {0, -160, 0, lc};\n",
    "Point(4) = {-160, 0, 0, lc};\n",
    "\n",
    "Point(5) = {0, 210, 0, lc};\n",
    "Point(6) = {210, 0, 0, lc};\n",
    "Point(7) = {0, -210, 0, lc};\n",
    "Point(8) = {-210, 0, 0, lc};\n",
    "\n",
    "Line(1) = {1, 2};\n",
    "Line(2) = {2, 3};\n",
    "Line(3) = {3, 4};\n",
    "Line(4) = {4, 1};\n",
    "\n",
    "Line(5) = {5, 6};\n",
    "Line(6) = {6, 7};\n",
    "Line(7) = {7, 8};\n",
    "Line(8) = {8, 5};\n",
    "\n",
    "Line Loop(9) = {1,2,3,4};\n",
    "Line Loop(10) = {5,6,7,8};\n",
    "Plane Surface(11) = {9, 10};\n",
    "\n",
    "Extrude {0, 0, 40} {\n",
    "  Surface{11};\n",
    "}\n",
    "\n",
    "Point(109) = {0, 300, 0, 1};\n",
    "Point(1010) = {300, 0, 0, 1};\n",
    "Point(1011) = {0, -300, 0, 1};\n",
    "Point(1012) = {-300, 0, 0, 1};\n",
    "\n",
    "Line(1013) = {109, 1010};\n",
    "Line(1014) = {1010, 1011};\n",
    "Line(1015) = {1011, 1012};\n",
    "Line(1016) = {1012, 109};\n",
    "\n",
    "Line Loop(1017) = {1013,1014,1015,1016};\n",
    "Plane Surface(1018) = {10,1017};\n",
    "\n",
    "Extrude {0, 0, 40} {\n",
    "  Surface{1018};\n",
    "}\n",
    "\n",
    "\n",
    "//Physical Point(99) = {2,3,4,5}; // electrode marker (99)\n",
    "\n",
    "Mesh.CharacteristicLengthMin = 15;\n",
    "//Mesh.CharacteristicLengthMin = 7;"
   ]
  },
  {
   "cell_type": "code",
   "execution_count": 14,
   "metadata": {
    "collapsed": false
   },
   "outputs": [
    {
     "data": {
      "text/plain": [
       "'/home/bergmann/peterb/tech_topics/460_fem_pipe/fem-pipe'"
      ]
     },
     "execution_count": 14,
     "metadata": {},
     "output_type": "execute_result"
    }
   ],
   "source": [
    "pwd"
   ]
  },
  {
   "cell_type": "code",
   "execution_count": 62,
   "metadata": {
    "collapsed": false
   },
   "outputs": [],
   "source": [
    "from subprocess import getoutput as sgo\n",
    "import pygimli.meshtools.polytools as plc\n",
    "import numpy as np\n",
    "\n",
    "def print2file(string,file='mesh.geo'):\n",
    "    sgo('echo \"'+string+'\" >> '+file)\n",
    "    \n",
    "\n",
    "radius_inner = 100\n",
    "radius_outer = 140\n",
    "world_height = 400\n",
    "world_width = 200\n",
    "pipe_length = 300\n",
    "segments = 40\n",
    "characteristicLengthMin = 25\n",
    "\n",
    "assert radius_inner < radius_outer\n",
    "assert radius_outer < world_height\n",
    "assert radius_outer < world_width\n",
    "\n",
    "c_inner = plc.createCircle([0, 0], radius=radius_inner, segments=segments)\n",
    "c_outer = plc.createCircle([0, 0], radius=radius_outer, segments=segments)\n",
    "\n",
    "!rm mesh.geo\n",
    "print2file('lc1 = 18;')\n",
    "print2file('lc2 = 118;')\n",
    "\n",
    "pointIdx = 1\n",
    "points_outer = []\n",
    "for node in c_outer.nodes():\n",
    "    print2file('Point('+str(pointIdx)+') ={'+str(node.x())+', '+\\\n",
    "                                        str(node.y())+', '+\\\n",
    "                                        str(node.z())+', lc1};')\n",
    "    points_outer.append(pointIdx)\n",
    "    pointIdx += 1\n",
    "print2file(' ')\n",
    "\n",
    "points_inner = []\n",
    "for node in c_inner.nodes():\n",
    "    print2file('Point('+str(pointIdx)+') ={'+str(node.x())+', '+\\\n",
    "                                        str(node.y())+', '+\\\n",
    "                                        str(node.z())+', lc1};')\n",
    "    points_inner.append(pointIdx)\n",
    "    pointIdx += 1    \n",
    "\n",
    "#Create line entities\n",
    "lineIdx = 1\n",
    "for i,pointIdx in enumerate(points_outer):\n",
    "    if i == 0:\n",
    "        startIdx = pointIdx\n",
    "    if i < len(points_outer)-1:\n",
    "        print2file('Line('+str(lineIdx)+') ={'+str(pointIdx)+', '+str(pointIdx+1)+'};')\n",
    "        lineIdx += 1\n",
    "    elif i == len(points_outer)-1:\n",
    "        print2file('Line('+str(lineIdx)+') ={'+str(pointIdx)+', '+str(startIdx)+'};')\n",
    "        lineIdx += 1\n",
    "print2file(' ')        \n",
    "        \n",
    "for i,pointIdx in enumerate(points_inner):\n",
    "    if i == 0:\n",
    "        startIdx = pointIdx\n",
    "    if i < len(points_inner)-1:\n",
    "        print2file('Line('+str(lineIdx)+') ={'+str(pointIdx)+', '+str(pointIdx+1)+'};')\n",
    "        lineIdx += 1\n",
    "    elif i == len(points_outer)-1:\n",
    "        print2file('Line('+str(lineIdx)+') ={'+str(pointIdx)+', '+str(startIdx)+'};')\n",
    "        lineIdx += 1\n",
    "        \n",
    "#Create line loop entities\n",
    "lineLoopOuterIdx = lineIdx\n",
    "print2file('Line Loop('+str(lineLoopOuterIdx)+') = {'+str(points_outer)[1:-1]+'};')\n",
    "\n",
    "lineIdx += 1\n",
    "lineLoopInnerIdx = lineIdx\n",
    "print2file('Line Loop('+str(lineLoopInnerIdx)+') = {'+str(points_inner)[1:-1]+'};')\n",
    "\n",
    "lineIdx += 1\n",
    "print2file('Plane Surface('+str(lineIdx)+') = {'+str(lineLoopOuterIdx)+', '+str(lineLoopInnerIdx)+'};')\n",
    "\n",
    "print2file(' ')    \n",
    "\n",
    "print2file('Extrude {0, 0, '+str(pipe_length)+'} {')\n",
    "print2file('  Surface{'+str(lineIdx)+'};')\n",
    "print2file('}')\n",
    "\n",
    "\n",
    "\n",
    "#Outer world\n",
    "worldEntityIdx1 = pointIdx + lineIdx + 10**(np.ceil(np.log10(pointIdx+lineIdx)))\n",
    "worldEntityIdx2 = worldEntityIdx1 + 1\n",
    "worldEntityIdx3 = worldEntityIdx1 + 2\n",
    "worldEntityIdx4 = worldEntityIdx1 + 3\n",
    "\n",
    "print2file('Point('+str(worldEntityIdx1)+') ={'+str(-world_width)+', '+\\\n",
    "                                                str(world_height)+', '+\\\n",
    "                                                str(0)+', lc2};')\n",
    "print2file('Point('+str(worldEntityIdx2)+') ={'+str(world_width)+', '+\\\n",
    "                                                str(world_height)+', '+\\\n",
    "                                                str(0)+', lc2};')\n",
    "print2file('Point('+str(worldEntityIdx3)+') ={'+str(world_width)+', '+\\\n",
    "                                                str(-world_height)+', '+\\\n",
    "                                                str(0)+', lc2};')\n",
    "print2file('Point('+str(worldEntityIdx4)+') ={'+str(-world_width)+', '+\\\n",
    "                                                str(-world_height)+', '+\\\n",
    "                                                str(0)+', lc2};')\n",
    "\n",
    "worldLineIdx5 = worldEntityIdx1 + 4\n",
    "worldLineIdx6 = worldEntityIdx1 + 5\n",
    "worldLineIdx7 = worldEntityIdx1 + 6\n",
    "worldLineIdx8 = worldEntityIdx1 + 7\n",
    "print2file(' ') \n",
    "\n",
    "print2file('Line('+str(worldLineIdx5)+') ={'+str(worldEntityIdx1)+', '+str(worldEntityIdx2)+'};')\n",
    "print2file('Line('+str(worldLineIdx6)+') ={'+str(worldEntityIdx2)+', '+str(worldEntityIdx3)+'};')\n",
    "print2file('Line('+str(worldLineIdx7)+') ={'+str(worldEntityIdx3)+', '+str(worldEntityIdx4)+'};')\n",
    "print2file('Line('+str(worldLineIdx8)+') ={'+str(worldEntityIdx4)+', '+str(worldEntityIdx1)+'};')\n",
    "print2file(' ') \n",
    "\n",
    "worldLineLoopIdx9 = worldEntityIdx1 + 8\n",
    "print2file('Line Loop('+str(worldLineLoopIdx9)+\\\n",
    "           ') = {'+str(worldLineIdx5)+', '+\\\n",
    "           str(worldLineIdx6)+', '+\\\n",
    "           str(worldLineIdx7)+', '+\\\n",
    "           str(worldLineIdx8)+'};')\n",
    "\n",
    "worldPlaneSurfaceIdx10 = worldEntityIdx1 + 9\n",
    "print2file('Plane Surface('+str(worldPlaneSurfaceIdx10)+') = {'+str(lineLoopOuterIdx)+', '+str(worldLineLoopIdx9)+'};')\n",
    "\n",
    "print2file(' ')    \n",
    "\n",
    "print2file('Extrude {0, 0, '+str(pipe_length)+'} {')\n",
    "print2file('  Surface{'+str(worldPlaneSurfaceIdx10)+'};')\n",
    "print2file('}')\n",
    "\n",
    "#print2file('Mesh.CharacteristicLengthMin = '+str(characteristicLengthMin)+';')"
   ]
  },
  {
   "cell_type": "code",
   "execution_count": 63,
   "metadata": {
    "collapsed": false
   },
   "outputs": [
    {
     "name": "stdout",
     "output_type": "stream",
     "text": [
      "Mesh: Nodes: 3447 Cells: 15717 Boundaries: 33018\n"
     ]
    }
   ],
   "source": [
    "# http://gmsh.info/doc/texinfo/gmsh.html#Mesh-options-list\n",
    "from pygimli.meshtools import readGmsh\n",
    "import subprocess\n",
    "\n",
    "subprocess.call([\"gmsh\", \"-3\", \"-o\", \"mesh.msh\", \"mesh.geo\"])\n",
    "mesh = readGmsh('mesh.msh', verbose=False)\n",
    "\n",
    "for cell in mesh.cells():\n",
    "    distanceFromOrigin = np.sqrt((cell.center().x())**2+(cell.center().y())**2)\n",
    "    if distanceFromOrigin > radius_outer:\n",
    "        cell.setMarker(2)\n",
    "        \n",
    "mesh.save('mesh.bms')\n",
    "mesh.exportVTK('mesh')\n",
    "print(mesh)"
   ]
  },
  {
   "cell_type": "code",
   "execution_count": 64,
   "metadata": {
    "collapsed": true
   },
   "outputs": [],
   "source": [
    "!paraview --data=mesh.vtk"
   ]
  },
  {
   "cell_type": "code",
   "execution_count": 52,
   "metadata": {
    "collapsed": false
   },
   "outputs": [],
   "source": [
    "\n"
   ]
  },
  {
   "cell_type": "code",
   "execution_count": 7,
   "metadata": {
    "collapsed": false
   },
   "outputs": [
    {
     "name": "stdout",
     "output_type": "stream",
     "text": [
      "4656\n"
     ]
    }
   ],
   "source": [
    "#Set boundary conditions\n",
    "import numpy as np\n",
    "import pygimli as pg\n",
    "\n",
    "outer_boundaries = 0\n",
    "for bound in mesh.boundaries():\n",
    "    try:\n",
    "        bound.leftCell().id()\n",
    "        existLeftCell = True    \n",
    "    except:\n",
    "        existLeftCell = False\n",
    "\n",
    "    try:\n",
    "        bound.rightCell().id()\n",
    "        existRightCell = True    \n",
    "    except:\n",
    "        existRightCell = False\n",
    "\n",
    "    if np.array([existLeftCell,existRightCell]).all() == False:\n",
    "        bound.setMarker(pg.MARKER_BOUND_HOMOGEN_NEUMANN)\n",
    "        outer_boundaries += 1\n",
    "\n",
    "mesh.save('mesh')\n",
    "print(outer_boundaries)"
   ]
  },
  {
   "cell_type": "code",
   "execution_count": 8,
   "metadata": {
    "collapsed": false
   },
   "outputs": [
    {
     "name": "stdout",
     "output_type": "stream",
     "text": [
      "210.0 0.0 24.99999999995\n",
      "169.89356881875 -123.43490298132 149.999999999598\n",
      "-94.04564036672 -129.4427191 224.999999999796\n",
      "-94.04564036672 -129.4427191 249.999999999864\n",
      "4# Number of electrodes\n",
      "#x y z\n",
      "210.0 0.0 24.99999999995\n",
      "169.89356881875 -123.43490298132 149.999999999598\n",
      "-94.04564036672 -129.4427191 224.999999999796\n",
      "-94.04564036672 -129.4427191 249.999999999864\n",
      "4# Number of data\n",
      "#a b m n\n",
      "1 2 3 4\n",
      "2 1 3 4\n",
      "1 4 3 2\n",
      "2 3 1 4\n"
     ]
    }
   ],
   "source": [
    "for i,node in enumerate(mesh.nodes()):\n",
    "    if i == 240:\n",
    "        elec1_x, elec1_y, elec1_z = node.x(),node.y(),node.z()\n",
    "        print(elec1_x, elec1_y, elec1_z)\n",
    "    if i == 641:\n",
    "        elec2_x, elec2_y, elec2_z = node.x(),node.y(),node.z()\n",
    "        print(elec2_x, elec2_y, elec2_z)        \n",
    "    if i == 842:\n",
    "        elec3_x, elec3_y, elec3_z = node.x(),node.y(),node.z()\n",
    "        print(elec3_x, elec3_y, elec3_z)        \n",
    "    if i == 843:\n",
    "        elec4_x, elec4_y, elec4_z = node.x(),node.y(),node.z() \n",
    "        print(elec4_x, elec4_y, elec4_z)        \n",
    "\n",
    "!echo \"4# Number of electrodes\" > config.shm\n",
    "!echo \"#x y z\" >> config.shm\n",
    "!echo \"{elec1_x} {elec1_y} {elec1_z}\" >> config.shm\n",
    "!echo \"{elec2_x} {elec2_y} {elec2_z}\" >> config.shm\n",
    "!echo \"{elec3_x} {elec3_y} {elec3_z}\" >> config.shm\n",
    "!echo \"{elec4_x} {elec4_y} {elec4_z}\" >> config.shm\n",
    "!echo \"4# Number of data\" >> config.shm\n",
    "!echo \"#a b m n\" >> config.shm\n",
    "!echo \"1 2 3 4\" >> config.shm\n",
    "!echo \"2 1 3 4\" >> config.shm\n",
    "!echo \"1 4 3 2\" >> config.shm\n",
    "!echo \"2 3 1 4\" >> config.shm\n",
    "\n",
    "!cat config.shm"
   ]
  },
  {
   "cell_type": "code",
   "execution_count": 11,
   "metadata": {
    "collapsed": false
   },
   "outputs": [
    {
     "name": "stdout",
     "output_type": "stream",
     "text": [
      "240\n",
      "641\n",
      "842\n",
      "843\n"
     ]
    },
    {
     "data": {
      "text/plain": [
       "1"
      ]
     },
     "execution_count": 11,
     "metadata": {},
     "output_type": "execute_result"
    }
   ],
   "source": [
    "#Set electrode marker\n",
    "for node in mesh.nodes():\n",
    "    if (node.x() == elec1_x) and \\\n",
    "        (node.y() == elec1_y) and \\\n",
    "        (node.z() == elec1_z):\n",
    "            print(node.id())\n",
    "            node.setMarker(99)  \n",
    "    if (node.x() == elec2_x) and \\\n",
    "        (node.y() == elec2_y) and \\\n",
    "        (node.z() == elec2_z):\n",
    "            print(node.id())        \n",
    "            node.setMarker(99)\n",
    "    if (node.x() == elec3_x) and \\\n",
    "        (node.y() == elec3_y) and \\\n",
    "        (node.z() == elec3_z):\n",
    "            print(node.id())        \n",
    "            node.setMarker(99)\n",
    "    if (node.x() == elec4_x) and \\\n",
    "        (node.y() == elec4_y) and \\\n",
    "        (node.z() == elec4_z):\n",
    "            print(node.id())        \n",
    "            node.setMarker(99)\n",
    "    \n",
    "mesh.save('mesh')"
   ]
  },
  {
   "cell_type": "code",
   "execution_count": 12,
   "metadata": {
    "collapsed": false
   },
   "outputs": [
    {
     "name": "stdout",
     "output_type": "stream",
     "text": [
      "Mesh:  Mesh: Nodes: 2684 Cells: 9050 Boundaries: 20428\n",
      "{'sourcePos': [210.0, 0.0, 24.99999999995], 'k': 0.001}\n",
      "('Asssemblation time: ', 0.5429999999999999)\n",
      "('Solving time: ', 0.095)\n",
      "Mesh:  Mesh: Nodes: 2684 Cells: 9050 Boundaries: 20428\n",
      "{'sourcePos': [169.89356881875, -123.43490298132, 149.999999999598], 'k': 0.001}\n",
      "('Asssemblation time: ', 0.402)\n",
      "('Solving time: ', 0.024)\n"
     ]
    }
   ],
   "source": [
    "from pygimli.solver import solve\n",
    "\n",
    "def mixedBC(boundary, userData):\n",
    "    sourcePos = userData['sourcePos']\n",
    "    k = userData['k']\n",
    "    r1 = boundary.center() - sourcePos\n",
    "    # Mirror on surface at depth=0\n",
    "    r2 = boundary.center() - pg.RVector3(1.0, -1.0, 1.0) * sourcePos\n",
    "    r1A = r1.abs()\n",
    "    r2A = r2.abs()\n",
    "\n",
    "    n = boundary.norm()\n",
    "    # need rho here !!!!!!!!!!!!!!!!!!!!!!!!!!!1\n",
    "\n",
    "    if r1A > 1e-12 and r2A > 1e-12:\n",
    "        return k * ((r1.dot(n)) / r1A * pg.besselK1(r1A * k) +\n",
    "                    (r2.dot(n)) / r2A * pg.besselK1(r2A * k)) / \\\n",
    "            (pg.besselK0(r1A * k) + pg.besselK0(r2A * k))\n",
    "    else:\n",
    "        return 0.\n",
    "    \n",
    "def pointSource(cell, f, userData):\n",
    "    sourcePos = userData['sourcePos']\n",
    "\n",
    "    if cell.shape().isInside(sourcePos):\n",
    "        f.setVal(cell.N(cell.shape().rst(sourcePos)), cell.ids())\n",
    "\n",
    "\n",
    "sourcePosA = [elec1_x, elec1_y, elec1_z]\n",
    "sourcePosB = [elec2_x, elec2_y, elec2_z]\n",
    "\n",
    "k = 1e-3\n",
    "sigma = 1\n",
    "u1 = solve(mesh, a=sigma, b=sigma * k*k, f=pointSource,\n",
    "          duB=[[-1, mixedBC]],\n",
    "          userData={'sourcePos': sourcePosA, 'k': k},\n",
    "          verbose=True)\n",
    "\n",
    "#BOundary conditions!!!!!!!!!!!!!!!!!!!!!!!!!!!!!!!!!!!!!!!!!!!!!!!!!!!!!!!!\n",
    "u2 = solve(mesh, a=sigma, b=sigma * k*k, f=pointSource,\n",
    "          duB=[[-1, mixedBC]],\n",
    "          userData={'sourcePos': sourcePosB, 'k': k},\n",
    "          verbose=True)\n",
    "\n",
    "u = u1 - u2"
   ]
  },
  {
   "cell_type": "code",
   "execution_count": 13,
   "metadata": {
    "collapsed": false
   },
   "outputs": [],
   "source": [
    "mesh.save('mesh')\n",
    "!echo 'SCALARS valuesC double 1' >> mesh.vtk\n",
    "!echo 'LOOKUP_TABLE default' >> mesh.vtk\n",
    "!echo {str(list(u)).replace('[','').replace(']','').replace('\\n','').replace(',','')} >> mesh.vtk\n",
    "\n",
    "!paraview --data=mesh.vtk"
   ]
  },
  {
   "cell_type": "code",
   "execution_count": null,
   "metadata": {
    "collapsed": true
   },
   "outputs": [],
   "source": []
  }
 ],
 "metadata": {
  "anaconda-cloud": {},
  "kernelspec": {
   "display_name": "Python [Root]",
   "language": "python",
   "name": "Python [Root]"
  },
  "language_info": {
   "codemirror_mode": {
    "name": "ipython",
    "version": 3
   },
   "file_extension": ".py",
   "mimetype": "text/x-python",
   "name": "python",
   "nbconvert_exporter": "python",
   "pygments_lexer": "ipython3",
   "version": "3.5.2"
  }
 },
 "nbformat": 4,
 "nbformat_minor": 0
}
