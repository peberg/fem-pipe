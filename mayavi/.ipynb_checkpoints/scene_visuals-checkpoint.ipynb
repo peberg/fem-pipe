{
 "cells": [
  {
   "cell_type": "code",
   "execution_count": 1,
   "metadata": {
    "collapsed": true
   },
   "outputs": [],
   "source": [
    "import sys"
   ]
  },
  {
   "cell_type": "code",
   "execution_count": 2,
   "metadata": {
    "collapsed": false
   },
   "outputs": [],
   "source": [
    "sys.path.append('/usr/lib/paraview/site-packages/paraview')"
   ]
  },
  {
   "cell_type": "code",
   "execution_count": 3,
   "metadata": {
    "collapsed": false
   },
   "outputs": [
    {
     "ename": "ImportError",
     "evalue": "No module named paraview.simple",
     "output_type": "error",
     "traceback": [
      "\u001b[0;31m---------------------------------------------------------------------------\u001b[0m",
      "\u001b[0;31mImportError\u001b[0m                               Traceback (most recent call last)",
      "\u001b[0;32m<ipython-input-3-fd18706122a4>\u001b[0m in \u001b[0;36m<module>\u001b[0;34m()\u001b[0m\n\u001b[0;32m----> 1\u001b[0;31m \u001b[0;32mfrom\u001b[0m \u001b[0mparaview\u001b[0m\u001b[0;34m.\u001b[0m\u001b[0msimple\u001b[0m \u001b[0;32mimport\u001b[0m \u001b[0;34m*\u001b[0m\u001b[0;34m\u001b[0m\u001b[0m\n\u001b[0m",
      "\u001b[0;31mImportError\u001b[0m: No module named paraview.simple"
     ]
    }
   ],
   "source": [
    "from paraview.simple import *"
   ]
  },
  {
   "cell_type": "code",
   "execution_count": 5,
   "metadata": {
    "collapsed": false
   },
   "outputs": [
    {
     "name": "stdout",
     "output_type": "stream",
     "text": [
      "Writing paraview_view.py\n"
     ]
    }
   ],
   "source": [
    "%%file paraview_view.py\n",
    "#### import the simple module from the paraview\n",
    "from paraview.simple import *\n",
    "#### disable automatic camera reset on 'Show'\n",
    "paraview.simple._DisableFirstRenderCameraReset()\n",
    "\n",
    "# create a new 'Legacy VTK Reader'\n",
    "meshvtk = LegacyVTKReader(FileNames=['/home/bergmann/peterb/tech_topics/460_fem_pipe/fem-pipe/mesh.vtk'])\n",
    "\n",
    "# get active view\n",
    "renderView1 = GetActiveViewOrCreate('RenderView')\n",
    "# uncomment following to set a specific view size\n",
    "# renderView1.ViewSize = [660, 497]\n",
    "\n",
    "# get color transfer function/color map for 'valuesC'\n",
    "valuesCLUT = GetColorTransferFunction('valuesC')\n",
    "\n",
    "# show data in view\n",
    "meshvtkDisplay = Show(meshvtk, renderView1)\n",
    "# trace defaults for the display properties.\n",
    "meshvtkDisplay.ColorArrayName = ['POINTS', 'valuesC']\n",
    "meshvtkDisplay.LookupTable = valuesCLUT\n",
    "meshvtkDisplay.GlyphType = 'Arrow'\n",
    "meshvtkDisplay.ScalarOpacityUnitDistance = 36.430215288341394\n",
    "\n",
    "# reset view to fit data\n",
    "renderView1.ResetCamera()\n",
    "\n",
    "# show color bar/color legend\n",
    "meshvtkDisplay.SetScalarBarVisibility(renderView1, True)\n",
    "\n",
    "# get opacity transfer function/opacity map for 'valuesC'\n",
    "valuesCPWF = GetOpacityTransferFunction('valuesC')\n",
    "\n",
    "#### saving camera placements for all active views\n",
    "\n",
    "# current camera placement for renderView1\n",
    "renderView1.CameraPosition = [428.1137148925292, 338.7480691234168, 1888.8196029267604]\n",
    "renderView1.CameraFocalPoint = [0.0, 0.0, 150.0]\n",
    "renderView1.CameraViewUp = [-0.015792468841630044, 0.9821474237256779, -0.187448755655779]\n",
    "renderView1.CameraParallelScale = 471.6990566028302\n",
    "\n",
    "#### uncomment the following to render all views\n",
    "# RenderAllViews()\n",
    "# alternatively, if you want to write images, you can use SaveScreenshot(...).\n",
    "\n",
    "# save screenshot\n",
    "SaveScreenshot('/home/bergmann/peterb/tech_topics/460_fem_pipe/fem-pipe/mayavi/out.png', magnification=1, quality=100, view=renderView1)"
   ]
  },
  {
   "cell_type": "code",
   "execution_count": 6,
   "metadata": {
    "collapsed": false
   },
   "outputs": [
    {
     "name": "stdout",
     "output_type": "stream",
     "text": [
      "paraview version 5.0.1\r\n"
     ]
    }
   ],
   "source": [
    "!paraview --script=paraview_view.py"
   ]
  },
  {
   "cell_type": "code",
   "execution_count": null,
   "metadata": {
    "collapsed": true
   },
   "outputs": [],
   "source": [
    "from IPython.display import Image\n",
    "Image(filename='out.png') "
   ]
  }
 ],
 "metadata": {
  "anaconda-cloud": {},
  "kernelspec": {
   "display_name": "Python [py27]",
   "language": "python",
   "name": "Python [py27]"
  },
  "language_info": {
   "codemirror_mode": {
    "name": "ipython",
    "version": 2
   },
   "file_extension": ".py",
   "mimetype": "text/x-python",
   "name": "python",
   "nbconvert_exporter": "python",
   "pygments_lexer": "ipython2",
   "version": "2.7.12"
  }
 },
 "nbformat": 4,
 "nbformat_minor": 0
}
