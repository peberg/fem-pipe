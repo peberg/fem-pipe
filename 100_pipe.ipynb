{
 "cells": [
  {
   "cell_type": "code",
   "execution_count": 1,
   "metadata": {
    "collapsed": true
   },
   "outputs": [],
   "source": [
    "import pygimli as pg\n",
    "from pygimli.physics.seismics import solvePressureWave, ricker\n",
    "import numpy as np\n",
    "from matplotlib.pyplot import figure\n",
    "from pygimli.viewer import show\n",
    "import pygimli.meshtools.polytools as plc\n",
    "from pygimli.meshtools import createMesh\n",
    "from pygimli.mplviewer import drawMesh\n",
    "import matplotlib.pyplot as plt\n",
    "import math\n",
    "%matplotlib inline"
   ]
  },
  {
   "cell_type": "code",
   "execution_count": 2,
   "metadata": {
    "collapsed": false
   },
   "outputs": [],
   "source": [
    "def polyCreateDefaultEdges_(poly, boundaryMarker=1, isClosed=True, **kwargs):\n",
    "    \"\"\"INTERNAL\"\"\"\n",
    "\n",
    "    nEdges = poly.nodeCount()-1 + isClosed\n",
    "    bm = None\n",
    "    if hasattr(boundaryMarker, '__len__'):\n",
    "        if len(boundaryMarker) == nEdges:\n",
    "            bm = boundaryMarker\n",
    "        else:\n",
    "            raise Exception(\"marker length != nEdges\",\n",
    "                            len(boundaryMarker), nEdges)\n",
    "    else:\n",
    "        bm = [boundaryMarker] * nEdges\n",
    "\n",
    "    for i in range(poly.nodeCount() - 1):\n",
    "        poly.createEdge(poly.node(i), poly.node(i+1), bm[i])\n",
    "        \n",
    "    if isClosed:\n",
    "        poly.createEdge(poly.node(poly.nodeCount()-1),\n",
    "                        poly.node(0), bm[-1])\n",
    "        \n",
    "def createCircle(pos=None, radius=1, segments=12, start=0, end=2.*math.pi, \n",
    "                 spike=False, phi0=0, x_shift=0, y_shift=0, **kwargs):\n",
    "\n",
    "    \"\"\"\n",
    "    Create simple circle polygon.\n",
    "\n",
    "    Parameters\n",
    "    ----------\n",
    "    pos : [x, y] [[0.0, 0.0]]\n",
    "        Center position\n",
    "    radius : float | [a,b] [1]\n",
    "        radius or halfaxes of the circle\n",
    "    segments : int\n",
    "        Discrete amount of segments for the circle\n",
    "    start : double [0]\n",
    "        Starting angle in radians\n",
    "    end : double [2*pi]\n",
    "        Ending angle in radians\n",
    "\n",
    "    **kwargs:\n",
    "\n",
    "        marker : int [1]\n",
    "            Marker for the resulting triangle cells after mesh generation\n",
    "        area : float [0]\n",
    "            Maximum cell size for resulting triangles after mesh generation\n",
    "        boundaryMarker : int [1]\n",
    "            Marker for the resulting boundary edges\n",
    "        leftDirection : bool [True]\n",
    "            Rotational direction\n",
    "        isHole : bool [False]\n",
    "            The Polygone will become a hole instead of a triangulation\n",
    "        isClosed : bool [True]\n",
    "            Add closing edge between last and first node.\n",
    "\n",
    "    Returns\n",
    "    -------\n",
    "    poly : gimliapi:`GIMLI::Mesh`\n",
    "        The resulting polygon is a gimliapi:`GIMLI::Mesh`.\n",
    "\n",
    "    Examples\n",
    "    --------\n",
    "    >>> import matplotlib.pyplot as plt\n",
    "    >>> from pygimli.mplviewer import drawMesh\n",
    "    >>> import pygimli as pg\n",
    "    >>> import math\n",
    "    >>> from pygimli.meshtools import polytools as plc\n",
    "    >>> c0 = plc.createCircle(pos=(-5.0, 0.0), radius=2, segments=6)\n",
    "    >>> c1 = plc.createCircle(pos=(0.0, 0.0), segments=5, start=0, end=math.pi)\n",
    "    >>> c2 = plc.createCircle(pos=(5.0, 0.0), segments=3, start=math.pi,\n",
    "    ...                       end=1.5*math.pi, isClosed=False)\n",
    "    >>> plc = plc.mergePLC([c0, c1, c2])\n",
    "    >>>\n",
    "    >>> fig, ax = plt.subplots()\n",
    "    >>> drawMesh(ax, plc)\n",
    "    >>> plt.show()\n",
    "    \"\"\"\n",
    "\n",
    "    if pos is None:\n",
    "        pos = [0.0, 0.0]\n",
    "\n",
    "    poly = pg.Mesh(2)\n",
    "\n",
    "    dPhi = (end - start) / (segments)\n",
    "    nPhi = segments + 1\n",
    "\n",
    "    if abs((end % (2. * math.pi) - start)) < 1e-6:\n",
    "        nPhi = segments\n",
    "\n",
    "    for i in range(0, nPhi):\n",
    "        if kwargs.pop('leftDirection', True):\n",
    "            phi = start + i * dPhi\n",
    "        else:\n",
    "            phi = start - i * dPhi\n",
    "\n",
    "        phi += phi0\n",
    "        xp = np.cos(phi)\n",
    "        yp = np.sin(phi)\n",
    "        poly.createNode([xp, yp])\n",
    "        \n",
    "    if spike:\n",
    "        poly.createNode([xp - 0.1 * math.cos(phi0) + x_shift, yp - 0.1 * math.sin(phi0) + y_shift])\n",
    "        print(xp,yp)\n",
    "\n",
    "    if kwargs.pop('isHole', False):\n",
    "        poly.addHoleMarker([0.0, 0.0])\n",
    "    else:\n",
    "        poly.addRegionMarker([0.0, 0.0],\n",
    "                             marker=kwargs.pop('marker', 1),\n",
    "                             area=kwargs.pop('area', 0))\n",
    "\n",
    "    if hasattr(radius, '__len__'):\n",
    "        poly.scale(radius)\n",
    "    else:\n",
    "        poly.scale([radius, radius])\n",
    "\n",
    "    poly.translate(pos)\n",
    "\n",
    "    polyCreateDefaultEdges_(poly, **kwargs)\n",
    "    \n",
    "    ## need a better way mess with these or wrong kwargs\n",
    "    ## pg.warnNonEmptyArgs(kwargs)\n",
    "    \n",
    "    return poly\n"
   ]
  },
  {
   "cell_type": "code",
   "execution_count": 3,
   "metadata": {
    "collapsed": false
   },
   "outputs": [
    {
     "name": "stdout",
     "output_type": "stream",
     "text": [
      "-0.656059028991 0.754709580223\n",
      "Mesh: Nodes: 3349 Cells: 6250 Boundaries: 9599\n"
     ]
    }
   ],
   "source": [
    "c1 = createCircle([0, 0], radius=240, area=200, segments=90, marker=2, \\\n",
    "                  spike=True, phi0 = 0.75*math.pi, x_shift = -.01, y_shift = -.04)\n",
    "c2 = createCircle([0, 0], radius=190, area=200, segments=90, isHole=1)\n",
    "\n",
    "plc_obj = plc.mergePLC([c1,c2])\n",
    "#grid = createMesh(plc_obj, quality=34.75, area=52)\n",
    "#grid = createMesh(plc_obj, quality=34.82, area=35)\n",
    "#grid = createMesh(plc_obj, quality=34.85, area=34)\n",
    "grid = createMesh(plc_obj, quality=34.51, area=30)\n",
    "print(grid)"
   ]
  },
  {
   "cell_type": "code",
   "execution_count": null,
   "metadata": {
    "collapsed": false
   },
   "outputs": [],
   "source": [
    "\n",
    "\n",
    "fig = plt.figure(figsize=(12,8))\n",
    "ax1 = fig.add_subplot(121)\n",
    "ax2 = fig.add_subplot(122)\n",
    "\n",
    "#drawMesh(ax1, plc_obj)\n",
    "drawMesh(ax1, grid)\n",
    "drawMesh(ax2, grid)\n",
    "\n",
    "screenSize = 110\n",
    "x_center = -130\n",
    "y_center = 130\n",
    "ax2.set_xlim(x_center-screenSize, x_center+screenSize)\n",
    "ax2.set_ylim(y_center-screenSize, y_center+screenSize)\n",
    "\n",
    "ax1.set_xlim(-260,260)\n",
    "ax1.set_ylim(-260,260)\n",
    "\n",
    "for i,node in enumerate(c2.nodes()):\n",
    "    \n",
    "    if 35 - 8 < i < 35 + 8:\n",
    "        ax1.plot(node.x(),node.y(),'or', ms=5)\n",
    "        ax2.plot(node.x(),node.y(),'or', ms=10)\n",
    "\n",
    "        if i == 35:\n",
    "            ax1.plot(node.x(),node.y(),'ob', ms=5)\n",
    "            ax2.plot(node.x(),node.y(),'ob', ms=10)\n",
    "            \n",
    "            sou_x, sou_y = node.x(), node.y()\n",
    "            \n",
    "        if i == 35 - 7:\n",
    "            sensor1_x, sensor1_y = node.x(), node.y()            \n",
    "        if i == 33:\n",
    "            sensor2_x, sensor2_y = node.x(), node.y() \n",
    "            \n",
    "from matplotlib.patches import Ellipse\n",
    "el = Ellipse((2, -1), 0.5, .5)\n",
    "anno1 = ax2.annotate('Wall defect', xy=(-160,170), xytext=(-220, 210),\n",
    "                     arrowprops=dict(arrowstyle=\"simple\",\n",
    "                     fc=\".2\", ec=\"none\", patchB=el, \n",
    "                     connectionstyle=\"arc3,rad=0.1\"))\n",
    "anno1.set_fontsize(13)\n",
    "\n",
    "anno2 = ax2.annotate('Omni-directional\\npressure source', xy=(sou_x + 4, sou_y - 4), xytext=(-150, 60),\n",
    "                     arrowprops=dict(arrowstyle=\"simple\",\n",
    "                     fc=\".2\", ec=\"none\", patchB=el, \n",
    "                     connectionstyle=\"arc3,rad=0.\"))\n",
    "anno2.set_fontsize(13)\n",
    "\n",
    "anno3 = ax2.annotate('Pressure \\nsensor', xy=(sensor1_x + 4, sensor1_y - 4), xytext=(-90, 110),\n",
    "                     arrowprops=dict(arrowstyle=\"simple\",\n",
    "                     fc=\".2\", ec=\"none\", patchB=el, \n",
    "                     connectionstyle=\"arc3,rad=0.\"))\n",
    "anno3.set_fontsize(13)\n",
    "\n",
    "anno4 = ax2.annotate('         ', xy=(sensor2_x + 4, sensor2_y - 4), xytext=(-90, 115),\n",
    "                     arrowprops=dict(arrowstyle=\"simple\",\n",
    "                     fc=\".2\", ec=\"none\", patchB=el, \n",
    "                     connectionstyle=\"arc3,rad=0.\"))\n",
    "anno4.set_fontsize(13)\n",
    "\n",
    "for ax in [ax1,ax2]:\n",
    "    ax.set_xlabel('x (cm)')\n",
    "    ax.set_ylabel('y (cm)')    \n",
    "    \n",
    "plt.show()\n",
    "fig.savefig('mesh.png')"
   ]
  },
  {
   "cell_type": "code",
   "execution_count": 32,
   "metadata": {
    "collapsed": false
   },
   "outputs": [
    {
     "data": {
      "text/plain": [
       "10.0"
      ]
     },
     "execution_count": 32,
     "metadata": {},
     "output_type": "execute_result"
    }
   ],
   "source": [
    "anno1.get_fontsize()"
   ]
  },
  {
   "cell_type": "code",
   "execution_count": 7,
   "metadata": {
    "collapsed": false
   },
   "outputs": [
    {
     "data": {
      "text/plain": [
       "[<matplotlib.lines.Line2D at 0x7f2db51b5d68>]"
      ]
     },
     "execution_count": 7,
     "metadata": {},
     "output_type": "execute_result"
    },
    {
     "data": {
      "image/png": "[encoded data removed]",
      "text/plain": [
       "<matplotlib.figure.Figure at 0x7f2dcce05dd8>"
      ]
     },
     "metadata": {},
     "output_type": "display_data"
    }
   ],
   "source": [
    "times = pg.RVector(np.linspace(0,.5,1000))\n",
    "sourcePos = pg.RVector(np.array([sou_x, sou_y, 0.]))\n",
    "uSource = ricker(times, 20, 0.06)\n",
    "verbose = False\n",
    "\n",
    "#fig = figure()\n",
    "#ax = fig.add_subplot(111)\n",
    "#pg.mplviewer.drawMesh(ax, grid)\n",
    "\n",
    "import matplotlib.pyplot as plt\n",
    "plt.plot(times,uSource,'-x')"
   ]
  },
  {
   "cell_type": "code",
   "execution_count": 6,
   "metadata": {
    "collapsed": true
   },
   "outputs": [],
   "source": [
    "data = []\n",
    "for cell in grid.cells():\n",
    "    data.append(400.)\n",
    "\n",
    "velocities = pg.RVector(np.array(data))"
   ]
  },
  {
   "cell_type": "code",
   "execution_count": 7,
   "metadata": {
    "collapsed": false
   },
   "outputs": [],
   "source": [
    "verbose = False\n",
    "u = solvePressureWave(grid, velocities, times, sourcePos, uSource, verbose)"
   ]
  },
  {
   "cell_type": "code",
   "execution_count": 8,
   "metadata": {
    "collapsed": true
   },
   "outputs": [],
   "source": [
    "u_np = np.array(u)\n",
    "u_np = np.clip(u_np, -0.199, 0.199)"
   ]
  },
  {
   "cell_type": "code",
   "execution_count": 9,
   "metadata": {
    "collapsed": false
   },
   "outputs": [
    {
     "name": "stdout",
     "output_type": "stream",
     "text": [
      "[119, 120, 121, 122, 123, 124, 125, 126, 127, 128, 129, 130, 131, 132, 133]\n"
     ]
    },
    {
     "data": {
      "image/png": "[encoded data removed]",
      "text/plain": [
       "<matplotlib.figure.Figure at 0x7fe3298cdac8>"
      ]
     },
     "metadata": {},
     "output_type": "display_data"
    }
   ],
   "source": [
    "idx = 300\n",
    "fig = figure(figsize=(12,8))\n",
    "ax1 = fig.add_subplot(131)\n",
    "ax2 = fig.add_subplot(132)\n",
    "\n",
    "im1 = pg.mplviewer.drawField(ax1, grid, u_np[idx], \\\n",
    "                            omitLines=True, \\\n",
    "                            cmap='coolwarm', \\\n",
    "                            colorBar=True, \\\n",
    "                            levels=np.linspace(-0.2,0.2, 100))\n",
    "\n",
    "im2 = pg.mplviewer.drawField(ax2, grid, u_np[idx], \\\n",
    "                            omitLines=True, \\\n",
    "                            cmap='coolwarm', \\\n",
    "                            colorBar=True, \\\n",
    "                            levels=np.linspace(-0.2,0.2, 100))\n",
    "\n",
    "for i,node in enumerate(c2.nodes()):\n",
    "    if 35 - 8 < i < 35 + 8:\n",
    "        ax1.plot(node.x(),node.y(),'or')\n",
    "        ax2.plot(node.x(),node.y(),'or')\n",
    "        if i == 35:\n",
    "            ax1.plot(node.x(),node.y(),'ob')\n",
    "            ax2.plot(node.x(),node.y(),'ob')\n",
    "            \n",
    "screenSize = 110\n",
    "x_center = -130\n",
    "y_center = 130\n",
    "ax2.set_xlim(x_center-screenSize, x_center+screenSize)\n",
    "ax2.set_ylim(y_center-screenSize, y_center+screenSize)   \n",
    "\n",
    "grid_x_list, grid_y_list = [], []\n",
    "for i,node in enumerate(grid.nodes()):\n",
    "    grid_x_list.append(node.x())\n",
    "    grid_y_list.append(node.y())\n",
    "\n",
    "\n",
    "grid_idx_list = []\n",
    "for i,node in enumerate(c2.nodes()):\n",
    "    if 35 - 8 < i < 35 + 8:    \n",
    "        idx = grid.findNearestNode([node.x(), node.y()])\n",
    "        grid_idx_list.append(idx)\n",
    "        ax1.plot(grid_x_list[idx], grid_y_list[idx],'k+')\n",
    "        ax2.plot(grid_x_list[idx], grid_y_list[idx],'k+')\n",
    "\n",
    "print(grid_idx_list)"
   ]
  },
  {
   "cell_type": "code",
   "execution_count": 10,
   "metadata": {
    "collapsed": false
   },
   "outputs": [
    {
     "data": {
      "image/png": "[encoded data removed]",
      "text/plain": [
       "<matplotlib.figure.Figure at 0x7fe3298ab588>"
      ]
     },
     "metadata": {},
     "output_type": "display_data"
    }
   ],
   "source": [
    "import matplotlib.animation as animation\n",
    "\n",
    "fig = plt.figure(figsize=(12,8))\n",
    "ax1 = fig.add_subplot(131)\n",
    "ax2 = fig.add_subplot(132)\n",
    "ax3 = fig.add_subplot(133)\n",
    "\n",
    "\n",
    "def updatefig(i):\n",
    "    ax1.clear()\n",
    "    p = [pg.mplviewer.drawField(ax1, grid, u_np[int(i)], \\\n",
    "                                omitLines=True, cmap='coolwarm', \\\n",
    "                                colorBar=True, levels=np.linspace(-0.2,0.2, 100))]\n",
    "    ax2.clear()\n",
    "    p = [pg.mplviewer.drawField(ax2, grid, u_np[int(i)], \\\n",
    "                                omitLines=True, cmap='coolwarm', \\\n",
    "                                colorBar=True, levels=np.linspace(-0.2,0.2, 100))]\n",
    "    \n",
    "    screenSize = 110\n",
    "    x_center = -130\n",
    "    y_center = 130\n",
    "    ax2.set_xlim(x_center-screenSize, x_center+screenSize)\n",
    "    ax2.set_ylim(y_center-screenSize, y_center+screenSize) \n",
    "    \n",
    "    for k,node in enumerate(c2.nodes()):\n",
    "        if 35 - 8 < k < 35 + 8:\n",
    "            ax2.plot(node.x(),node.y(),'or')\n",
    "            ax1.plot(node.x(),node.y(),'or')\n",
    "            if k == 35:\n",
    "                ax1.plot(node.x(),node.y(),'ob')\n",
    "                ax2.plot(node.x(),node.y(),'ob')\n",
    "    #ax.set_title(str(int(i)))\n",
    "\n",
    "    #Update traces\n",
    "    ax3.clear()\n",
    "    max_time_idx = int(i)\n",
    "    for j, grid_idx in enumerate(grid_idx_list):\n",
    "         ax3.plot(np.array(times)[0:max_time_idx], \\\n",
    "                  3*u_np[0:max_time_idx, grid_idx_list[j]] + j, 'k')\n",
    "\n",
    "    ax3.set_xlim([0, np.max(np.array(times))])\n",
    "    ax3.set_ylim([-1, len(grid_idx_list)+1 ])\n",
    "    ax3.set_aspect(.035)\n",
    "    \n",
    "    plt.draw()\n",
    "    \n",
    "\n",
    "anim = animation.FuncAnimation(fig, updatefig, np.linspace(0,999,100))\n",
    "anim.save('out_2.mp4', fps=20, dpi=150)"
   ]
  },
  {
   "cell_type": "code",
   "execution_count": 11,
   "metadata": {
    "collapsed": false
   },
   "outputs": [
    {
     "data": {
      "text/plain": [
       "<matplotlib.figure.Figure at 0x7fe328634b38>"
      ]
     },
     "metadata": {},
     "output_type": "display_data"
    }
   ],
   "source": [
    "anim.save('out_2.gif', writer='imagemagick', fps=20)"
   ]
  },
  {
   "cell_type": "code",
   "execution_count": null,
   "metadata": {
    "collapsed": true
   },
   "outputs": [],
   "source": []
  }
 ],
 "metadata": {
  "anaconda-cloud": {},
  "kernelspec": {
   "display_name": "Python [Root]",
   "language": "python",
   "name": "Python [Root]"
  },
  "language_info": {
   "codemirror_mode": {
    "name": "ipython",
    "version": 3
   },
   "file_extension": ".py",
   "mimetype": "text/x-python",
   "name": "python",
   "nbconvert_exporter": "python",
   "pygments_lexer": "ipython3",
   "version": "3.5.2"
  }
 },
 "nbformat": 4,
 "nbformat_minor": 0
}
